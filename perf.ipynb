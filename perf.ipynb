{
 "cells": [
  {
   "cell_type": "code",
   "execution_count": 3,
   "id": "48520dc1",
   "metadata": {},
   "outputs": [],
   "source": [
    "from perf_test import generate_parquets, merge_polars, merge_duckdb, merge_pandas\n",
    "import glob"
   ]
  },
  {
   "cell_type": "code",
   "execution_count": 4,
   "id": "d629503a",
   "metadata": {},
   "outputs": [],
   "source": [
    "generate_parquets(200)\n",
    "files = sorted(glob.glob(\"parquet_data/*.parquet\"))"
   ]
  },
  {
   "cell_type": "code",
   "execution_count": 5,
   "id": "807e6370",
   "metadata": {},
   "outputs": [
    {
     "name": "stdout",
     "output_type": "stream",
     "text": [
      "merge_polars took 0.3658 seconds\n",
      "merge_duckdb took 6.0149 seconds\n",
      "merge_pandas took 1.4088 seconds\n"
     ]
    }
   ],
   "source": [
    "# Run the functions to see the time taken\n",
    "polars_df = merge_polars(files)\n",
    "duckdb_df = merge_duckdb(files)\n",
    "pandas_df = merge_pandas(files)\n"
   ]
  },
  {
   "cell_type": "code",
   "execution_count": 9,
   "id": "9885eada",
   "metadata": {},
   "outputs": [
    {
     "name": "stdout",
     "output_type": "stream",
     "text": [
      "stack_polars took 0.0527 seconds\n",
      "stack_duckdb took 0.0529 seconds\n",
      "stack_pandas took 0.1132 seconds\n"
     ]
    }
   ],
   "source": [
    "from perf_test import stack_polars, stack_duckdb, stack_pandas\n",
    "\n",
    "\n",
    "# Run the functions to see the time taken\n",
    "polars_df = stack_polars()\n",
    "duckdb_df = stack_duckdb()\n",
    "pandas_df = stack_pandas()"
   ]
  },
  {
   "cell_type": "code",
   "execution_count": null,
   "id": "646de682",
   "metadata": {},
   "outputs": [],
   "source": []
  }
 ],
 "metadata": {
  "kernelspec": {
   "display_name": "venv",
   "language": "python",
   "name": "python3"
  },
  "language_info": {
   "codemirror_mode": {
    "name": "ipython",
    "version": 3
   },
   "file_extension": ".py",
   "mimetype": "text/x-python",
   "name": "python",
   "nbconvert_exporter": "python",
   "pygments_lexer": "ipython3",
   "version": "3.10.1"
  }
 },
 "nbformat": 4,
 "nbformat_minor": 5
}
