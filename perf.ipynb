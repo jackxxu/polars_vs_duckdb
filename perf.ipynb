{
 "cells": [
  {
   "cell_type": "code",
   "execution_count": 1,
   "id": "48520dc1",
   "metadata": {},
   "outputs": [],
   "source": [
    "from perf_test import generate_parquets, merge_polars, merge_duckdb, merge_pandas\n",
    "import glob"
   ]
  },
  {
   "cell_type": "code",
   "execution_count": 2,
   "id": "d629503a",
   "metadata": {},
   "outputs": [],
   "source": [
    "generate_parquets(200)\n",
    "files = sorted(glob.glob(\"parquet_data/*.parquet\"))"
   ]
  },
  {
   "cell_type": "code",
   "execution_count": 3,
   "id": "807e6370",
   "metadata": {},
   "outputs": [
    {
     "name": "stdout",
     "output_type": "stream",
     "text": [
      "merge_polars took 0.2663 seconds\n",
      "merge_duckdb took 5.7057 seconds\n",
      "merge_pandas took 1.2736 seconds\n"
     ]
    }
   ],
   "source": [
    "# Run the functions to see the time taken\n",
    "polars_df = merge_polars(files)\n",
    "duckdb_df = merge_duckdb(files)\n",
    "pandas_df = merge_pandas(files)\n"
   ]
  },
  {
   "cell_type": "code",
   "execution_count": null,
   "id": "9885eada",
   "metadata": {},
   "outputs": [],
   "source": []
  }
 ],
 "metadata": {
  "kernelspec": {
   "display_name": "venv",
   "language": "python",
   "name": "python3"
  },
  "language_info": {
   "codemirror_mode": {
    "name": "ipython",
    "version": 3
   },
   "file_extension": ".py",
   "mimetype": "text/x-python",
   "name": "python",
   "nbconvert_exporter": "python",
   "pygments_lexer": "ipython3",
   "version": "3.10.1"
  }
 },
 "nbformat": 4,
 "nbformat_minor": 5
}
